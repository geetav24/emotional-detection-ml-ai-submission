{
 "cells": [
  {
   "cell_type": "markdown",
   "metadata": {},
   "source": [
    "Data pre-processing\n",
    "Removing noise (If required).\n",
    "Changing the size of the images (If required).\n",
    "Normalizing the pixels values. \n",
    "Encoding the target variable.\n",
    "\n",
    "Exploratory Data Analysis\n",
    "Converting images pixels to other formats (RGB and HSV if required)\n",
    "Use appropriate Edge Detectors (If required)\n",
    "Insights from EDA\n",
    "\n",
    "Analytical Approach\n",
    "Mention the alternative analytical approaches that you may see fit to be applied to the problem"
   ]
  },
  {
   "cell_type": "code",
   "execution_count": 47,
   "metadata": {},
   "outputs": [
    {
     "name": "stdout",
     "output_type": "stream",
     "text": [
      "Requirement already satisfied: scipy in /opt/anaconda3/lib/python3.9/site-packages (1.11.4)\n",
      "Requirement already satisfied: numpy<1.28.0,>=1.21.6 in /opt/anaconda3/lib/python3.9/site-packages (from scipy) (1.26.3)\n",
      "Note: you may need to restart the kernel to use updated packages.\n"
     ]
    }
   ],
   "source": [
    "pip install scipy"
   ]
  },
  {
   "cell_type": "code",
   "execution_count": 41,
   "metadata": {},
   "outputs": [
    {
     "name": "stdout",
     "output_type": "stream",
     "text": [
      "\u001b[31mERROR: Invalid requirement: 'tensorflow=2.15'\n",
      "Hint: = is not a valid operator. Did you mean == ?\u001b[0m\u001b[31m\n",
      "\u001b[0mNote: you may need to restart the kernel to use updated packages.\n"
     ]
    }
   ],
   "source": [
    "pip install tensorflow=2.15"
   ]
  },
  {
   "cell_type": "code",
   "execution_count": 119,
   "metadata": {},
   "outputs": [],
   "source": [
    "import matplotlib.pyplot as plt\n",
    "import numpy as np\n",
    "import PIL\n",
    "import tensorflow as tf\n",
    "import cv2\n",
    "\n",
    "from tensorflow import keras\n",
    "from tensorflow.keras.models import Sequential\n",
    "from tensorflow.keras import layers, models, callbacks\n",
    "\n",
    "import seaborn as sns\n",
    "from sklearn import metrics\n",
    "from sklearn.metrics import confusion_matrix, classification_report, precision_recall_curve,recall_score\n",
    "\n",
    "from sklearn.metrics import plot_confusion_matrix\n"
   ]
  },
  {
   "cell_type": "code",
   "execution_count": 49,
   "metadata": {},
   "outputs": [],
   "source": [
    "labels_dict = {\n",
    "    'Happy': 0,\n",
    "    'Not_Happy': 1\n",
    "}"
   ]
  },
  {
   "cell_type": "markdown",
   "metadata": {},
   "source": [
    "Load and Normalize data"
   ]
  },
  {
   "cell_type": "code",
   "execution_count": 51,
   "metadata": {},
   "outputs": [
    {
     "data": {
      "text/plain": [
       "<matplotlib.image.AxesImage at 0x7f7e2fd994c0>"
      ]
     },
     "execution_count": 51,
     "metadata": {},
     "output_type": "execute_result"
    },
    {
     "data": {
      "image/png": "[encoded data removed]",
      "text/plain": [
       "<Figure size 432x288 with 1 Axes>"
      ]
     },
     "metadata": {
      "needs_background": "light"
     },
     "output_type": "display_data"
    }
   ],
   "source": [
    "# Normalizing image resize \n",
    "directory = \"/Users/geeta-mit/Desktop/capstone-project/milestone-1/content/Dataset/Training/Train/\"\n",
    "test_directory = \"/Users/geeta-mit/Desktop/capstone-project/milestone-1/content/Dataset/Training/Test/\"\n",
    "classes=[\"Happy\",\"Not_Happy\"]\n",
    "X,y ,resize_X,np_resize_X= [], [],[],[]\n",
    "canny_img_X=[]\n",
    "cat=[]\n",
    "\n",
    "\n",
    "\n",
    "\n",
    "for category in classes:\n",
    "  path= os.path.join(directory,category)\n",
    "  for img_name in os.listdir(path):\n",
    "    cat.append(labels_dict.get(category))\n",
    "    y.append(labels_dict[category])\n",
    "    img=cv2.imread(os.path.join(path,img_name))\n",
    "    X.append(img)    \n",
    "    resize_img=cv2.resize(img, (48, 48))\n",
    "    gray_image = cv2.cvtColor(resize_img, cv2.COLOR_BGR2GRAY)\n",
    "    resize_img = gray_image/255.0\n",
    "    np_resize_X.append(resize_img)\n",
    "\n",
    "plt.imshow(np_resize_X[10])\n"
   ]
  },
  {
   "cell_type": "code",
   "execution_count": 52,
   "metadata": {},
   "outputs": [],
   "source": [
    "test_X,test_y ,test_resize_X,test_np_resize_X= [], [],[],[]\n",
    "test_canny_img_X=[]\n",
    "\n",
    "test_cat=[]\n",
    "for category in classes:\n",
    "  path= os.path.join(test_directory,category)\n",
    "  for img_name in os.listdir(path):\n",
    "    img=cv2.imread(os.path.join(path,img_name))\n",
    "    if img is not None:\n",
    "      test_cat.append(labels_dict.get(category))\n",
    "      test_y.append(labels_dict[category])\n",
    "      test_X.append(img)\n",
    "      test_resize_img=cv2.resize(img, (48, 48))\n",
    "      gray_image = cv2.cvtColor(test_resize_img, cv2.COLOR_BGR2GRAY)\n",
    "      test_resize_img = gray_image/255.0\n",
    "      test_np_resize_X.append(test_resize_img)"
   ]
  },
  {
   "cell_type": "code",
   "execution_count": 53,
   "metadata": {},
   "outputs": [
    {
     "data": {
      "text/html": [
       "<div>\n",
       "<style scoped>\n",
       "    .dataframe tbody tr th:only-of-type {\n",
       "        vertical-align: middle;\n",
       "    }\n",
       "\n",
       "    .dataframe tbody tr th {\n",
       "        vertical-align: top;\n",
       "    }\n",
       "\n",
       "    .dataframe thead th {\n",
       "        text-align: right;\n",
       "    }\n",
       "</style>\n",
       "<table border=\"1\" class=\"dataframe\">\n",
       "  <thead>\n",
       "    <tr style=\"text-align: right;\">\n",
       "      <th></th>\n",
       "      <th>img</th>\n",
       "      <th>cat</th>\n",
       "      <th>class</th>\n",
       "      <th>np_normalize_img</th>\n",
       "    </tr>\n",
       "  </thead>\n",
       "  <tbody>\n",
       "    <tr>\n",
       "      <th>0</th>\n",
       "      <td>[[[150, 150, 150], [154, 154, 154], [157, 157,...</td>\n",
       "      <td>0</td>\n",
       "      <td>0</td>\n",
       "      <td>[[0.5882352941176471, 0.6039215686274509, 0.61...</td>\n",
       "    </tr>\n",
       "    <tr>\n",
       "      <th>1</th>\n",
       "      <td>[[[0, 0, 0], [2, 2, 2], [14, 14, 14], [67, 67,...</td>\n",
       "      <td>1</td>\n",
       "      <td>1</td>\n",
       "      <td>[[0.0, 0.00784313725490196, 0.0549019607843137...</td>\n",
       "    </tr>\n",
       "    <tr>\n",
       "      <th>2</th>\n",
       "      <td>[[[165, 165, 165], [151, 151, 151], [155, 155,...</td>\n",
       "      <td>0</td>\n",
       "      <td>0</td>\n",
       "      <td>[[0.6470588235294118, 0.592156862745098, 0.607...</td>\n",
       "    </tr>\n",
       "    <tr>\n",
       "      <th>3</th>\n",
       "      <td>[[[248, 248, 248], [252, 252, 252], [246, 246,...</td>\n",
       "      <td>1</td>\n",
       "      <td>1</td>\n",
       "      <td>[[0.9725490196078431, 0.9882352941176471, 0.96...</td>\n",
       "    </tr>\n",
       "    <tr>\n",
       "      <th>4</th>\n",
       "      <td>[[[235, 235, 235], [235, 235, 235], [239, 239,...</td>\n",
       "      <td>0</td>\n",
       "      <td>0</td>\n",
       "      <td>[[0.9215686274509803, 0.9215686274509803, 0.93...</td>\n",
       "    </tr>\n",
       "  </tbody>\n",
       "</table>\n",
       "</div>"
      ],
      "text/plain": [
       "                                                 img  cat  class  \\\n",
       "0  [[[150, 150, 150], [154, 154, 154], [157, 157,...    0      0   \n",
       "1  [[[0, 0, 0], [2, 2, 2], [14, 14, 14], [67, 67,...    1      1   \n",
       "2  [[[165, 165, 165], [151, 151, 151], [155, 155,...    0      0   \n",
       "3  [[[248, 248, 248], [252, 252, 252], [246, 246,...    1      1   \n",
       "4  [[[235, 235, 235], [235, 235, 235], [239, 239,...    0      0   \n",
       "\n",
       "                                    np_normalize_img  \n",
       "0  [[0.5882352941176471, 0.6039215686274509, 0.61...  \n",
       "1  [[0.0, 0.00784313725490196, 0.0549019607843137...  \n",
       "2  [[0.6470588235294118, 0.592156862745098, 0.607...  \n",
       "3  [[0.9725490196078431, 0.9882352941176471, 0.96...  \n",
       "4  [[0.9215686274509803, 0.9215686274509803, 0.93...  "
      ]
     },
     "execution_count": 53,
     "metadata": {},
     "output_type": "execute_result"
    }
   ],
   "source": [
    "import pandas as pd\n",
    "dataFrame = pd.DataFrame()\n",
    "dataFrame['img'] = X\n",
    "dataFrame['cat'] = cat\n",
    "dataFrame['class'] = y\n",
    "dataFrame['np_normalize_img'] = np_resize_X\n",
    "dataFrame = dataFrame.sample(frac=1).reset_index(drop=True)\n",
    "\n",
    "test_dataFrame = pd.DataFrame()\n",
    "test_dataFrame['img'] = test_X\n",
    "test_dataFrame['cat'] = test_cat\n",
    "test_dataFrame['class'] = test_y\n",
    "test_dataFrame['np_normalize_img'] = test_np_resize_X\n",
    "test_dataFrame = test_dataFrame.sample(frac=1).reset_index(drop=True)\n",
    "\n",
    "dataFrame.head()"
   ]
  },
  {
   "cell_type": "markdown",
   "metadata": {},
   "source": []
  },
  {
   "cell_type": "code",
   "execution_count": 55,
   "metadata": {},
   "outputs": [
    {
     "name": "stdout",
     "output_type": "stream",
     "text": [
      "train DF :3217\n",
      "Validation DF :805\n"
     ]
    }
   ],
   "source": [
    "# Select ratio\n",
    "ratio = 0.80\n",
    " \n",
    "total_rows = dataFrame.shape[0]\n",
    "train_size = int(total_rows*ratio)\n",
    " \n",
    "# Split data into test and train\n",
    "train_ds = dataFrame[0:train_size]\n",
    "validation_ds = dataFrame[train_size:]\n",
    "print(\"train DF :\"+ str(train_ds.shape[0]))\n",
    "print(\"Validation DF :\"+ str(validation_ds.shape[0]))"
   ]
  },
  {
   "cell_type": "markdown",
   "metadata": {},
   "source": [
    "Argumentation Techniques can be applied to Training data to improve model performance\n",
    "Flip and Rotation  help model to perform well in real life images orientation which can be upside down.\n",
    "Bluring can reduce noise and focus on key feature"
   ]
  },
  {
   "cell_type": "code",
   "execution_count": 115,
   "metadata": {},
   "outputs": [],
   "source": [
    "from keras.optimizers import Adam\n",
    "\n",
    "def create_model(layer):\n",
    "    filters =32\n",
    "    kernel_size=(3,3)\n",
    "    cnn = models.Sequential([\n",
    "        tf.keras.layers.Conv2D(filters, kernel_size, activation='relu', input_shape=(48,48,1)),\n",
    "        tf.keras.layers.MaxPooling2D((2,2)),\n",
    "        tf.keras.layers.Conv2D(filters * 2, kernel_size,activation='relu'),\n",
    "        tf.keras.layers.MaxPooling2D((2,2)),\n",
    "        tf.keras.layers.Conv2D(filters * 4, kernel_size,activation='relu'),\n",
    "        tf.keras.layers.Flatten()\n",
    "    ])\n",
    "\n",
    "    for nodes in layer:\n",
    "        cnn.add(tf.keras.layers.Dense(units=nodes, activation='relu'))\n",
    "\n",
    "    \n",
    "        \n",
    "    cnn.add( tf.keras.layers.Dense(112, activation='relu'))\n",
    "    cnn.add(tf.keras.layers.Dense(2),activation='softmax')\n",
    "    optimizer = Adam(learning_rate=0.02)\n",
    "    \n",
    "    cnn.compile(optimizer=optimizer,\n",
    "              loss=tf.keras.losses.SparseCategoricalCrossentropy(from_logits=True),\n",
    "              metrics=['accuracy'])\n",
    "    return cnn"
   ]
  },
  {
   "cell_type": "markdown",
   "metadata": {},
   "source": [
    "base_model.summary()"
   ]
  },
  {
   "cell_type": "code",
   "execution_count": 58,
   "metadata": {},
   "outputs": [
    {
     "name": "stdout",
     "output_type": "stream",
     "text": [
      "Requirement already satisfied: tensorflow in /opt/anaconda3/lib/python3.9/site-packages (2.15.0)\n",
      "Requirement already satisfied: scikit-learn in /opt/anaconda3/lib/python3.9/site-packages (1.0.2)\n",
      "Requirement already satisfied: absl-py>=1.0.0 in /opt/anaconda3/lib/python3.9/site-packages (from tensorflow) (1.4.0)\n",
      "Requirement already satisfied: astunparse>=1.6.0 in /opt/anaconda3/lib/python3.9/site-packages (from tensorflow) (1.6.3)\n",
      "Requirement already satisfied: flatbuffers>=23.5.26 in /opt/anaconda3/lib/python3.9/site-packages (from tensorflow) (23.5.26)\n",
      "Requirement already satisfied: gast!=0.5.0,!=0.5.1,!=0.5.2,>=0.2.1 in /opt/anaconda3/lib/python3.9/site-packages (from tensorflow) (0.5.4)\n",
      "Requirement already satisfied: google-pasta>=0.1.1 in /opt/anaconda3/lib/python3.9/site-packages (from tensorflow) (0.2.0)\n",
      "Requirement already satisfied: h5py>=2.9.0 in /opt/anaconda3/lib/python3.9/site-packages (from tensorflow) (3.6.0)\n",
      "Requirement already satisfied: libclang>=13.0.0 in /opt/anaconda3/lib/python3.9/site-packages (from tensorflow) (16.0.6)\n",
      "Requirement already satisfied: ml-dtypes~=0.2.0 in /opt/anaconda3/lib/python3.9/site-packages (from tensorflow) (0.2.0)\n",
      "Requirement already satisfied: numpy<2.0.0,>=1.23.5 in /opt/anaconda3/lib/python3.9/site-packages (from tensorflow) (1.26.3)\n",
      "Requirement already satisfied: opt-einsum>=2.3.2 in /opt/anaconda3/lib/python3.9/site-packages (from tensorflow) (3.3.0)\n",
      "Requirement already satisfied: packaging in /opt/anaconda3/lib/python3.9/site-packages (from tensorflow) (23.1)\n",
      "Requirement already satisfied: protobuf!=4.21.0,!=4.21.1,!=4.21.2,!=4.21.3,!=4.21.4,!=4.21.5,<5.0.0dev,>=3.20.3 in /opt/anaconda3/lib/python3.9/site-packages (from tensorflow) (3.20.3)\n",
      "Requirement already satisfied: setuptools in /opt/anaconda3/lib/python3.9/site-packages (from tensorflow) (61.2.0)\n",
      "Requirement already satisfied: six>=1.12.0 in /opt/anaconda3/lib/python3.9/site-packages (from tensorflow) (1.16.0)\n",
      "Requirement already satisfied: termcolor>=1.1.0 in /opt/anaconda3/lib/python3.9/site-packages (from tensorflow) (2.4.0)\n",
      "Requirement already satisfied: typing-extensions>=3.6.6 in /opt/anaconda3/lib/python3.9/site-packages (from tensorflow) (4.1.1)\n",
      "Requirement already satisfied: wrapt<1.15,>=1.11.0 in /opt/anaconda3/lib/python3.9/site-packages (from tensorflow) (1.12.1)\n",
      "Requirement already satisfied: tensorflow-io-gcs-filesystem>=0.23.1 in /opt/anaconda3/lib/python3.9/site-packages (from tensorflow) (0.34.0)\n",
      "Requirement already satisfied: grpcio<2.0,>=1.24.3 in /opt/anaconda3/lib/python3.9/site-packages (from tensorflow) (1.59.3)\n",
      "Requirement already satisfied: tensorboard<2.16,>=2.15 in /opt/anaconda3/lib/python3.9/site-packages (from tensorflow) (2.15.1)\n",
      "Requirement already satisfied: tensorflow-estimator<2.16,>=2.15.0 in /opt/anaconda3/lib/python3.9/site-packages (from tensorflow) (2.15.0)\n",
      "Requirement already satisfied: keras<2.16,>=2.15.0 in /opt/anaconda3/lib/python3.9/site-packages (from tensorflow) (2.15.0)\n",
      "Requirement already satisfied: scipy>=1.1.0 in /opt/anaconda3/lib/python3.9/site-packages (from scikit-learn) (1.11.4)\n",
      "Requirement already satisfied: joblib>=0.11 in /opt/anaconda3/lib/python3.9/site-packages (from scikit-learn) (1.1.0)\n",
      "Requirement already satisfied: threadpoolctl>=2.0.0 in /opt/anaconda3/lib/python3.9/site-packages (from scikit-learn) (2.2.0)\n",
      "Requirement already satisfied: wheel<1.0,>=0.23.0 in /opt/anaconda3/lib/python3.9/site-packages (from astunparse>=1.6.0->tensorflow) (0.37.1)\n",
      "Requirement already satisfied: google-auth<3,>=1.6.3 in /opt/anaconda3/lib/python3.9/site-packages (from tensorboard<2.16,>=2.15->tensorflow) (2.24.0)\n",
      "Requirement already satisfied: google-auth-oauthlib<2,>=0.5 in /opt/anaconda3/lib/python3.9/site-packages (from tensorboard<2.16,>=2.15->tensorflow) (1.1.0)\n",
      "Requirement already satisfied: markdown>=2.6.8 in /opt/anaconda3/lib/python3.9/site-packages (from tensorboard<2.16,>=2.15->tensorflow) (3.3.4)\n",
      "Requirement already satisfied: requests<3,>=2.21.0 in /opt/anaconda3/lib/python3.9/site-packages (from tensorboard<2.16,>=2.15->tensorflow) (2.27.1)\n",
      "Requirement already satisfied: tensorboard-data-server<0.8.0,>=0.7.0 in /opt/anaconda3/lib/python3.9/site-packages (from tensorboard<2.16,>=2.15->tensorflow) (0.7.2)\n",
      "Requirement already satisfied: werkzeug>=1.0.1 in /opt/anaconda3/lib/python3.9/site-packages (from tensorboard<2.16,>=2.15->tensorflow) (2.0.3)\n",
      "Requirement already satisfied: cachetools<6.0,>=2.0.0 in /opt/anaconda3/lib/python3.9/site-packages (from google-auth<3,>=1.6.3->tensorboard<2.16,>=2.15->tensorflow) (4.2.2)\n",
      "Requirement already satisfied: pyasn1-modules>=0.2.1 in /opt/anaconda3/lib/python3.9/site-packages (from google-auth<3,>=1.6.3->tensorboard<2.16,>=2.15->tensorflow) (0.2.8)\n",
      "Requirement already satisfied: rsa<5,>=3.1.4 in /opt/anaconda3/lib/python3.9/site-packages (from google-auth<3,>=1.6.3->tensorboard<2.16,>=2.15->tensorflow) (4.7.2)\n",
      "Requirement already satisfied: requests-oauthlib>=0.7.0 in /opt/anaconda3/lib/python3.9/site-packages (from google-auth-oauthlib<2,>=0.5->tensorboard<2.16,>=2.15->tensorflow) (1.3.1)\n",
      "Requirement already satisfied: urllib3<1.27,>=1.21.1 in /opt/anaconda3/lib/python3.9/site-packages (from requests<3,>=2.21.0->tensorboard<2.16,>=2.15->tensorflow) (1.26.9)\n",
      "Requirement already satisfied: certifi>=2017.4.17 in /opt/anaconda3/lib/python3.9/site-packages (from requests<3,>=2.21.0->tensorboard<2.16,>=2.15->tensorflow) (2023.11.17)\n",
      "Requirement already satisfied: charset-normalizer~=2.0.0 in /opt/anaconda3/lib/python3.9/site-packages (from requests<3,>=2.21.0->tensorboard<2.16,>=2.15->tensorflow) (2.0.4)\n",
      "Requirement already satisfied: idna<4,>=2.5 in /opt/anaconda3/lib/python3.9/site-packages (from requests<3,>=2.21.0->tensorboard<2.16,>=2.15->tensorflow) (3.3)\n",
      "Requirement already satisfied: pyasn1<0.5.0,>=0.4.6 in /opt/anaconda3/lib/python3.9/site-packages (from pyasn1-modules>=0.2.1->google-auth<3,>=1.6.3->tensorboard<2.16,>=2.15->tensorflow) (0.4.8)\n",
      "Requirement already satisfied: oauthlib>=3.0.0 in /opt/anaconda3/lib/python3.9/site-packages (from requests-oauthlib>=0.7.0->google-auth-oauthlib<2,>=0.5->tensorboard<2.16,>=2.15->tensorflow) (3.2.2)\n",
      "Note: you may need to restart the kernel to use updated packages.\n"
     ]
    }
   ],
   "source": [
    "pip install tensorflow scikit-learn"
   ]
  },
  {
   "cell_type": "code",
   "execution_count": 65,
   "metadata": {},
   "outputs": [
    {
     "name": "stdout",
     "output_type": "stream",
     "text": [
      "Collecting scikit-keras\n",
      "  Downloading scikit_keras-0.2.0-py3-none-any.whl (18 kB)\n",
      "Requirement already satisfied: scikit-learn in /opt/anaconda3/lib/python3.9/site-packages (from scikit-keras) (1.0.2)\n",
      "Requirement already satisfied: tensorflow in /opt/anaconda3/lib/python3.9/site-packages (from scikit-keras) (2.15.0)\n",
      "Requirement already satisfied: numpy>=1.14.6 in /opt/anaconda3/lib/python3.9/site-packages (from scikit-learn->scikit-keras) (1.26.3)\n",
      "Requirement already satisfied: scipy>=1.1.0 in /opt/anaconda3/lib/python3.9/site-packages (from scikit-learn->scikit-keras) (1.11.4)\n",
      "Requirement already satisfied: joblib>=0.11 in /opt/anaconda3/lib/python3.9/site-packages (from scikit-learn->scikit-keras) (1.1.0)\n",
      "Requirement already satisfied: threadpoolctl>=2.0.0 in /opt/anaconda3/lib/python3.9/site-packages (from scikit-learn->scikit-keras) (2.2.0)\n",
      "Requirement already satisfied: absl-py>=1.0.0 in /opt/anaconda3/lib/python3.9/site-packages (from tensorflow->scikit-keras) (1.4.0)\n",
      "Requirement already satisfied: astunparse>=1.6.0 in /opt/anaconda3/lib/python3.9/site-packages (from tensorflow->scikit-keras) (1.6.3)\n",
      "Requirement already satisfied: flatbuffers>=23.5.26 in /opt/anaconda3/lib/python3.9/site-packages (from tensorflow->scikit-keras) (23.5.26)\n",
      "Requirement already satisfied: gast!=0.5.0,!=0.5.1,!=0.5.2,>=0.2.1 in /opt/anaconda3/lib/python3.9/site-packages (from tensorflow->scikit-keras) (0.5.4)\n",
      "Requirement already satisfied: google-pasta>=0.1.1 in /opt/anaconda3/lib/python3.9/site-packages (from tensorflow->scikit-keras) (0.2.0)\n",
      "Requirement already satisfied: h5py>=2.9.0 in /opt/anaconda3/lib/python3.9/site-packages (from tensorflow->scikit-keras) (3.6.0)\n",
      "Requirement already satisfied: libclang>=13.0.0 in /opt/anaconda3/lib/python3.9/site-packages (from tensorflow->scikit-keras) (16.0.6)\n",
      "Requirement already satisfied: ml-dtypes~=0.2.0 in /opt/anaconda3/lib/python3.9/site-packages (from tensorflow->scikit-keras) (0.2.0)\n",
      "Requirement already satisfied: opt-einsum>=2.3.2 in /opt/anaconda3/lib/python3.9/site-packages (from tensorflow->scikit-keras) (3.3.0)\n",
      "Requirement already satisfied: packaging in /opt/anaconda3/lib/python3.9/site-packages (from tensorflow->scikit-keras) (23.1)\n",
      "Requirement already satisfied: protobuf!=4.21.0,!=4.21.1,!=4.21.2,!=4.21.3,!=4.21.4,!=4.21.5,<5.0.0dev,>=3.20.3 in /opt/anaconda3/lib/python3.9/site-packages (from tensorflow->scikit-keras) (3.20.3)\n",
      "Requirement already satisfied: setuptools in /opt/anaconda3/lib/python3.9/site-packages (from tensorflow->scikit-keras) (61.2.0)\n",
      "Requirement already satisfied: six>=1.12.0 in /opt/anaconda3/lib/python3.9/site-packages (from tensorflow->scikit-keras) (1.16.0)\n",
      "Requirement already satisfied: termcolor>=1.1.0 in /opt/anaconda3/lib/python3.9/site-packages (from tensorflow->scikit-keras) (2.4.0)\n",
      "Requirement already satisfied: typing-extensions>=3.6.6 in /opt/anaconda3/lib/python3.9/site-packages (from tensorflow->scikit-keras) (4.1.1)\n",
      "Requirement already satisfied: wrapt<1.15,>=1.11.0 in /opt/anaconda3/lib/python3.9/site-packages (from tensorflow->scikit-keras) (1.12.1)\n",
      "Requirement already satisfied: tensorflow-io-gcs-filesystem>=0.23.1 in /opt/anaconda3/lib/python3.9/site-packages (from tensorflow->scikit-keras) (0.34.0)\n",
      "Requirement already satisfied: grpcio<2.0,>=1.24.3 in /opt/anaconda3/lib/python3.9/site-packages (from tensorflow->scikit-keras) (1.59.3)\n",
      "Requirement already satisfied: tensorboard<2.16,>=2.15 in /opt/anaconda3/lib/python3.9/site-packages (from tensorflow->scikit-keras) (2.15.1)\n",
      "Requirement already satisfied: tensorflow-estimator<2.16,>=2.15.0 in /opt/anaconda3/lib/python3.9/site-packages (from tensorflow->scikit-keras) (2.15.0)\n",
      "Requirement already satisfied: keras<2.16,>=2.15.0 in /opt/anaconda3/lib/python3.9/site-packages (from tensorflow->scikit-keras) (2.15.0)\n",
      "Requirement already satisfied: wheel<1.0,>=0.23.0 in /opt/anaconda3/lib/python3.9/site-packages (from astunparse>=1.6.0->tensorflow->scikit-keras) (0.37.1)\n",
      "Requirement already satisfied: google-auth<3,>=1.6.3 in /opt/anaconda3/lib/python3.9/site-packages (from tensorboard<2.16,>=2.15->tensorflow->scikit-keras) (2.24.0)\n",
      "Requirement already satisfied: google-auth-oauthlib<2,>=0.5 in /opt/anaconda3/lib/python3.9/site-packages (from tensorboard<2.16,>=2.15->tensorflow->scikit-keras) (1.1.0)\n",
      "Requirement already satisfied: markdown>=2.6.8 in /opt/anaconda3/lib/python3.9/site-packages (from tensorboard<2.16,>=2.15->tensorflow->scikit-keras) (3.3.4)\n",
      "Requirement already satisfied: requests<3,>=2.21.0 in /opt/anaconda3/lib/python3.9/site-packages (from tensorboard<2.16,>=2.15->tensorflow->scikit-keras) (2.27.1)\n",
      "Requirement already satisfied: tensorboard-data-server<0.8.0,>=0.7.0 in /opt/anaconda3/lib/python3.9/site-packages (from tensorboard<2.16,>=2.15->tensorflow->scikit-keras) (0.7.2)\n",
      "Requirement already satisfied: werkzeug>=1.0.1 in /opt/anaconda3/lib/python3.9/site-packages (from tensorboard<2.16,>=2.15->tensorflow->scikit-keras) (2.0.3)\n",
      "Requirement already satisfied: cachetools<6.0,>=2.0.0 in /opt/anaconda3/lib/python3.9/site-packages (from google-auth<3,>=1.6.3->tensorboard<2.16,>=2.15->tensorflow->scikit-keras) (4.2.2)\n",
      "Requirement already satisfied: pyasn1-modules>=0.2.1 in /opt/anaconda3/lib/python3.9/site-packages (from google-auth<3,>=1.6.3->tensorboard<2.16,>=2.15->tensorflow->scikit-keras) (0.2.8)\n",
      "Requirement already satisfied: rsa<5,>=3.1.4 in /opt/anaconda3/lib/python3.9/site-packages (from google-auth<3,>=1.6.3->tensorboard<2.16,>=2.15->tensorflow->scikit-keras) (4.7.2)\n",
      "Requirement already satisfied: requests-oauthlib>=0.7.0 in /opt/anaconda3/lib/python3.9/site-packages (from google-auth-oauthlib<2,>=0.5->tensorboard<2.16,>=2.15->tensorflow->scikit-keras) (1.3.1)\n",
      "Requirement already satisfied: urllib3<1.27,>=1.21.1 in /opt/anaconda3/lib/python3.9/site-packages (from requests<3,>=2.21.0->tensorboard<2.16,>=2.15->tensorflow->scikit-keras) (1.26.9)\n",
      "Requirement already satisfied: certifi>=2017.4.17 in /opt/anaconda3/lib/python3.9/site-packages (from requests<3,>=2.21.0->tensorboard<2.16,>=2.15->tensorflow->scikit-keras) (2023.11.17)\n",
      "Requirement already satisfied: charset-normalizer~=2.0.0 in /opt/anaconda3/lib/python3.9/site-packages (from requests<3,>=2.21.0->tensorboard<2.16,>=2.15->tensorflow->scikit-keras) (2.0.4)\n",
      "Requirement already satisfied: idna<4,>=2.5 in /opt/anaconda3/lib/python3.9/site-packages (from requests<3,>=2.21.0->tensorboard<2.16,>=2.15->tensorflow->scikit-keras) (3.3)\n",
      "Requirement already satisfied: pyasn1<0.5.0,>=0.4.6 in /opt/anaconda3/lib/python3.9/site-packages (from pyasn1-modules>=0.2.1->google-auth<3,>=1.6.3->tensorboard<2.16,>=2.15->tensorflow->scikit-keras) (0.4.8)\n",
      "Requirement already satisfied: oauthlib>=3.0.0 in /opt/anaconda3/lib/python3.9/site-packages (from requests-oauthlib>=0.7.0->google-auth-oauthlib<2,>=0.5->tensorboard<2.16,>=2.15->tensorflow->scikit-keras) (3.2.2)\n",
      "Installing collected packages: scikit-keras\n",
      "Successfully installed scikit-keras-0.2.0\n",
      "Note: you may need to restart the kernel to use updated packages.\n"
     ]
    }
   ],
   "source": [
    "pip install scikit-keras"
   ]
  },
  {
   "cell_type": "code",
   "execution_count": 66,
   "metadata": {},
   "outputs": [],
   "source": [
    "from skkeras import KerasClassifier"
   ]
  },
  {
   "cell_type": "code",
   "execution_count": 67,
   "metadata": {},
   "outputs": [],
   "source": [
    "\n",
    "from sklearn.model_selection import GridSearchCV"
   ]
  },
  {
   "cell_type": "code",
   "execution_count": 19,
   "metadata": {},
   "outputs": [],
   "source": [
    "from tensorflow.keras import layers, models, callbacks\n",
    "from sklearn.model_selection import GridSearchCV"
   ]
  },
  {
   "cell_type": "code",
   "execution_count": 118,
   "metadata": {},
   "outputs": [
    {
     "name": "stdout",
     "output_type": "stream",
     "text": [
      "Fitting 5 folds for each of 3 candidates, totalling 15 fits\n"
     ]
    },
    {
     "name": "stderr",
     "output_type": "stream",
     "text": [
      "/opt/anaconda3/lib/python3.9/site-packages/sklearn/model_selection/_validation.py:372: FitFailedWarning: \n",
      "15 fits failed out of a total of 15.\n",
      "The score on these train-test partitions for these parameters will be set to nan.\n",
      "If these failures are not expected, you can try to debug them by setting error_score='raise'.\n",
      "\n",
      "Below are more details about the failures:\n",
      "--------------------------------------------------------------------------------\n",
      "15 fits failed with the following error:\n",
      "Traceback (most recent call last):\n",
      "  File \"/opt/anaconda3/lib/python3.9/site-packages/sklearn/model_selection/_validation.py\", line 680, in _fit_and_score\n",
      "    estimator.fit(X_train, y_train, **fit_params)\n",
      "  File \"/opt/anaconda3/lib/python3.9/site-packages/skkeras/scikit_learn.py\", line 295, in fit\n",
      "    return super(KerasClassifier, self).fit(X, y, **kwargs)\n",
      "  File \"/opt/anaconda3/lib/python3.9/site-packages/skkeras/scikit_learn.py\", line 175, in fit\n",
      "    self.model_ = self.build_fn(\n",
      "TypeError: create_model() got multiple values for argument 'layers'\n",
      "\n",
      "  warnings.warn(some_fits_failed_message, FitFailedWarning)\n",
      "/opt/anaconda3/lib/python3.9/site-packages/sklearn/model_selection/_search.py:969: UserWarning: One or more of the test scores are non-finite: [nan nan nan]\n",
      "  warnings.warn(\n"
     ]
    },
    {
     "ename": "TypeError",
     "evalue": "create_model() got multiple values for argument 'layers'",
     "output_type": "error",
     "traceback": [
      "\u001b[0;31m---------------------------------------------------------------------------\u001b[0m",
      "\u001b[0;31mTypeError\u001b[0m                                 Traceback (most recent call last)",
      "\u001b[1;32m/Users/geeta-mit/Desktop/capstone-project/milestone-3/milestone-part3-final.ipynb Cell 20\u001b[0m in \u001b[0;36m<cell line: 25>\u001b[0;34m()\u001b[0m\n\u001b[1;32m     <a href='vscode-notebook-cell:/Users/geeta-mit/Desktop/capstone-project/milestone-3/milestone-part3-final.ipynb#ch0000043?line=22'>23</a>\u001b[0m param_grid \u001b[39m=\u001b[39m \u001b[39mdict\u001b[39m(layers\u001b[39m=\u001b[39mlayers)\n\u001b[1;32m     <a href='vscode-notebook-cell:/Users/geeta-mit/Desktop/capstone-project/milestone-3/milestone-part3-final.ipynb#ch0000043?line=23'>24</a>\u001b[0m grid \u001b[39m=\u001b[39m GridSearchCV(estimator\u001b[39m=\u001b[39mmodel, param_grid\u001b[39m=\u001b[39mparam_grid, verbose\u001b[39m=\u001b[39m\u001b[39m1\u001b[39m)\n\u001b[0;32m---> <a href='vscode-notebook-cell:/Users/geeta-mit/Desktop/capstone-project/milestone-3/milestone-part3-final.ipynb#ch0000043?line=24'>25</a>\u001b[0m grid_results \u001b[39m=\u001b[39m grid\u001b[39m.\u001b[39;49mfit(data_X,data_y, validation_data\u001b[39m=\u001b[39;49m(validate_X, validate_y))\n",
      "File \u001b[0;32m/opt/anaconda3/lib/python3.9/site-packages/sklearn/model_selection/_search.py:926\u001b[0m, in \u001b[0;36mBaseSearchCV.fit\u001b[0;34m(self, X, y, groups, **fit_params)\u001b[0m\n\u001b[1;32m    924\u001b[0m refit_start_time \u001b[39m=\u001b[39m time\u001b[39m.\u001b[39mtime()\n\u001b[1;32m    925\u001b[0m \u001b[39mif\u001b[39;00m y \u001b[39mis\u001b[39;00m \u001b[39mnot\u001b[39;00m \u001b[39mNone\u001b[39;00m:\n\u001b[0;32m--> 926\u001b[0m     \u001b[39mself\u001b[39;49m\u001b[39m.\u001b[39;49mbest_estimator_\u001b[39m.\u001b[39;49mfit(X, y, \u001b[39m*\u001b[39;49m\u001b[39m*\u001b[39;49mfit_params)\n\u001b[1;32m    927\u001b[0m \u001b[39melse\u001b[39;00m:\n\u001b[1;32m    928\u001b[0m     \u001b[39mself\u001b[39m\u001b[39m.\u001b[39mbest_estimator_\u001b[39m.\u001b[39mfit(X, \u001b[39m*\u001b[39m\u001b[39m*\u001b[39mfit_params)\n",
      "File \u001b[0;32m/opt/anaconda3/lib/python3.9/site-packages/skkeras/scikit_learn.py:295\u001b[0m, in \u001b[0;36mKerasClassifier.fit\u001b[0;34m(self, X, y, sample_weight, **kwargs)\u001b[0m\n\u001b[1;32m    293\u001b[0m \u001b[39mif\u001b[39;00m \u001b[39mlen\u001b[39m(y\u001b[39m.\u001b[39mshape) \u001b[39m!=\u001b[39m \u001b[39m2\u001b[39m:\n\u001b[1;32m    294\u001b[0m     y \u001b[39m=\u001b[39m to_categorical(y)\n\u001b[0;32m--> 295\u001b[0m \u001b[39mreturn\u001b[39;00m \u001b[39msuper\u001b[39;49m(KerasClassifier, \u001b[39mself\u001b[39;49m)\u001b[39m.\u001b[39;49mfit(X, y, \u001b[39m*\u001b[39;49m\u001b[39m*\u001b[39;49mkwargs)\n",
      "File \u001b[0;32m/opt/anaconda3/lib/python3.9/site-packages/skkeras/scikit_learn.py:175\u001b[0m, in \u001b[0;36mBaseWrapper.fit\u001b[0;34m(self, X, y, **kwargs)\u001b[0m\n\u001b[1;32m    169\u001b[0m     \u001b[39mself\u001b[39m\u001b[39m.\u001b[39mmodel_ \u001b[39m=\u001b[39m \u001b[39mself\u001b[39m\u001b[39m.\u001b[39mbuild_fn(\n\u001b[1;32m    170\u001b[0m         input_shape,\n\u001b[1;32m    171\u001b[0m         output_shape,\n\u001b[1;32m    172\u001b[0m         \u001b[39m*\u001b[39m\u001b[39m*\u001b[39m\u001b[39mself\u001b[39m\u001b[39m.\u001b[39mfilter_sk_params(\u001b[39mself\u001b[39m\u001b[39m.\u001b[39mbuild_fn\u001b[39m.\u001b[39m\u001b[39m__call__\u001b[39m)\n\u001b[1;32m    173\u001b[0m     )\n\u001b[1;32m    174\u001b[0m \u001b[39melse\u001b[39;00m:\n\u001b[0;32m--> 175\u001b[0m     \u001b[39mself\u001b[39m\u001b[39m.\u001b[39mmodel_ \u001b[39m=\u001b[39m \u001b[39mself\u001b[39;49m\u001b[39m.\u001b[39;49mbuild_fn(\n\u001b[1;32m    176\u001b[0m         input_shape, output_shape, \u001b[39m*\u001b[39;49m\u001b[39m*\u001b[39;49m\u001b[39mself\u001b[39;49m\u001b[39m.\u001b[39;49mfilter_sk_params(\u001b[39mself\u001b[39;49m\u001b[39m.\u001b[39;49mbuild_fn)\n\u001b[1;32m    177\u001b[0m     )\n\u001b[1;32m    178\u001b[0m fit_args \u001b[39m=\u001b[39m copy\u001b[39m.\u001b[39mdeepcopy(\u001b[39mself\u001b[39m\u001b[39m.\u001b[39mfilter_sk_params(Model\u001b[39m.\u001b[39mfit))\n\u001b[1;32m    179\u001b[0m fit_args\u001b[39m.\u001b[39mupdate(kwargs)\n",
      "\u001b[0;31mTypeError\u001b[0m: create_model() got multiple values for argument 'layers'"
     ]
    }
   ],
   "source": [
    "def create_model(layers):\n",
    "    cnn = tf.keras.models.Sequential()\n",
    "    cnn.add(tf.keras.layers.Conv2D(filters=32, kernel_size=3, padding=\"same\", activation=\"relu\", input_shape=[28, 28, 3]))\n",
    "    cnn.add(tf.keras.layers.MaxPool2D(pool_size=2, strides=2, padding='valid'))\n",
    "    cnn.add(tf.keras.layers.Conv2D(filters=32, kernel_size=3, padding=\"same\", activation=\"relu\"))\n",
    "    cnn.add(tf.keras.layers.MaxPool2D(pool_size=2, strides=2, padding='valid'))\n",
    "    cnn.add(tf.keras.layers.Flatten())\n",
    "    \n",
    "    for i, nodes in enumerate(layers):\n",
    "        cnn.add(tf.keras.layers.Dense(units=nodes, activation='relu'))\n",
    "            \n",
    "    cnn.add(tf.keras.layers.Dense(units=43, activation='softmax'))\n",
    "    \n",
    "    cnn.compile(optimizer = 'Adam', loss = 'binary_crossentropy', metrics = ['accuracy'])\n",
    "    return cnn\n",
    "\n",
    "data_X = np.array(train_ds['np_normalize_img'].tolist())\n",
    "data_y = np.array(train_ds['class'].tolist())\n",
    "validate_X = np.array(validation_ds['np_normalize_img'].tolist())\n",
    "validate_y = np.array(validation_ds['class'].tolist())\n",
    "X_data = data_X.astype('float32')\n",
    "model = KerasClassifier(build_fn=create_model, verbose=1)\n",
    "layers = [[128],(256, 128),(200, 150, 120)]\n",
    "param_grid = dict(layers=layers)\n",
    "grid = GridSearchCV(estimator=model, param_grid=param_grid, verbose=1)\n",
    "grid_results = grid.fit(data_X,data_y, validation_data=(validate_X, validate_y))\n",
    "print(\"Best: {0}, using {1}\".format(grid_results.best_score_, grid_results.best_params_))\n",
    "means = grid_results.cv_results_['mean_test_score']\n",
    "stds = grid_results.cv_results_['std_test_score']\n",
    "params = grid_results.cv_results_['params']\n",
    "for mean, stdev, param in zip(means, stds, params):\n",
    "    print('{0} ({1}) with: {2}'.format(mean, stdev, param))"
   ]
  },
  {
   "cell_type": "code",
   "execution_count": 116,
   "metadata": {},
   "outputs": [
    {
     "name": "stdout",
     "output_type": "stream",
     "text": [
      "Fitting 5 folds for each of 1 candidates, totalling 5 fits\n"
     ]
    },
    {
     "name": "stderr",
     "output_type": "stream",
     "text": [
      "/opt/anaconda3/lib/python3.9/site-packages/sklearn/model_selection/_validation.py:372: FitFailedWarning: \n",
      "5 fits failed out of a total of 5.\n",
      "The score on these train-test partitions for these parameters will be set to nan.\n",
      "If these failures are not expected, you can try to debug them by setting error_score='raise'.\n",
      "\n",
      "Below are more details about the failures:\n",
      "--------------------------------------------------------------------------------\n",
      "5 fits failed with the following error:\n",
      "Traceback (most recent call last):\n",
      "  File \"/opt/anaconda3/lib/python3.9/site-packages/sklearn/model_selection/_validation.py\", line 680, in _fit_and_score\n",
      "    estimator.fit(X_train, y_train, **fit_params)\n",
      "  File \"/opt/anaconda3/lib/python3.9/site-packages/skkeras/scikit_learn.py\", line 295, in fit\n",
      "    return super(KerasClassifier, self).fit(X, y, **kwargs)\n",
      "  File \"/opt/anaconda3/lib/python3.9/site-packages/skkeras/scikit_learn.py\", line 175, in fit\n",
      "    self.model_ = self.build_fn(\n",
      "TypeError: create_model() got multiple values for argument 'layer'\n",
      "\n",
      "  warnings.warn(some_fits_failed_message, FitFailedWarning)\n",
      "/opt/anaconda3/lib/python3.9/site-packages/sklearn/model_selection/_search.py:969: UserWarning: One or more of the test scores are non-finite: [nan]\n",
      "  warnings.warn(\n"
     ]
    },
    {
     "ename": "TypeError",
     "evalue": "create_model() got multiple values for argument 'layer'",
     "output_type": "error",
     "traceback": [
      "\u001b[0;31m---------------------------------------------------------------------------\u001b[0m",
      "\u001b[0;31mTypeError\u001b[0m                                 Traceback (most recent call last)",
      "\u001b[1;32m/Users/geeta-mit/Desktop/capstone-project/milestone-3/milestone-part3-final.ipynb Cell 20\u001b[0m in \u001b[0;36m<cell line: 18>\u001b[0;34m()\u001b[0m\n\u001b[1;32m     <a href='vscode-notebook-cell:/Users/geeta-mit/Desktop/capstone-project/milestone-3/milestone-part3-final.ipynb#ch0000017?line=15'>16</a>\u001b[0m \u001b[39m# Perform grid search\u001b[39;00m\n\u001b[1;32m     <a href='vscode-notebook-cell:/Users/geeta-mit/Desktop/capstone-project/milestone-3/milestone-part3-final.ipynb#ch0000017?line=16'>17</a>\u001b[0m grid \u001b[39m=\u001b[39m GridSearchCV(estimator\u001b[39m=\u001b[39mbase_model, param_grid\u001b[39m=\u001b[39mparam_grid, scoring\u001b[39m=\u001b[39m\u001b[39m'\u001b[39m\u001b[39maccuracy\u001b[39m\u001b[39m'\u001b[39m,verbose\u001b[39m=\u001b[39m\u001b[39m1\u001b[39m)\n\u001b[0;32m---> <a href='vscode-notebook-cell:/Users/geeta-mit/Desktop/capstone-project/milestone-3/milestone-part3-final.ipynb#ch0000017?line=17'>18</a>\u001b[0m grid_results \u001b[39m=\u001b[39m grid\u001b[39m.\u001b[39;49mfit(data_X, data_y,validation_data\u001b[39m=\u001b[39;49m(validate_X, validate_y))\n\u001b[1;32m     <a href='vscode-notebook-cell:/Users/geeta-mit/Desktop/capstone-project/milestone-3/milestone-part3-final.ipynb#ch0000017?line=18'>19</a>\u001b[0m \u001b[39mprint\u001b[39m(\u001b[39m\"\u001b[39m\u001b[39mBest: \u001b[39m\u001b[39m{0}\u001b[39;00m\u001b[39m, using \u001b[39m\u001b[39m{1}\u001b[39;00m\u001b[39m\"\u001b[39m\u001b[39m.\u001b[39mformat(grid_results\u001b[39m.\u001b[39mbest_score_, grid_results\u001b[39m.\u001b[39mbest_params_))\n\u001b[1;32m     <a href='vscode-notebook-cell:/Users/geeta-mit/Desktop/capstone-project/milestone-3/milestone-part3-final.ipynb#ch0000017?line=20'>21</a>\u001b[0m means \u001b[39m=\u001b[39m grid_results\u001b[39m.\u001b[39mcv_results_[\u001b[39m'\u001b[39m\u001b[39mmean_test_score\u001b[39m\u001b[39m'\u001b[39m]\n",
      "File \u001b[0;32m/opt/anaconda3/lib/python3.9/site-packages/sklearn/model_selection/_search.py:926\u001b[0m, in \u001b[0;36mBaseSearchCV.fit\u001b[0;34m(self, X, y, groups, **fit_params)\u001b[0m\n\u001b[1;32m    924\u001b[0m refit_start_time \u001b[39m=\u001b[39m time\u001b[39m.\u001b[39mtime()\n\u001b[1;32m    925\u001b[0m \u001b[39mif\u001b[39;00m y \u001b[39mis\u001b[39;00m \u001b[39mnot\u001b[39;00m \u001b[39mNone\u001b[39;00m:\n\u001b[0;32m--> 926\u001b[0m     \u001b[39mself\u001b[39;49m\u001b[39m.\u001b[39;49mbest_estimator_\u001b[39m.\u001b[39;49mfit(X, y, \u001b[39m*\u001b[39;49m\u001b[39m*\u001b[39;49mfit_params)\n\u001b[1;32m    927\u001b[0m \u001b[39melse\u001b[39;00m:\n\u001b[1;32m    928\u001b[0m     \u001b[39mself\u001b[39m\u001b[39m.\u001b[39mbest_estimator_\u001b[39m.\u001b[39mfit(X, \u001b[39m*\u001b[39m\u001b[39m*\u001b[39mfit_params)\n",
      "File \u001b[0;32m/opt/anaconda3/lib/python3.9/site-packages/skkeras/scikit_learn.py:295\u001b[0m, in \u001b[0;36mKerasClassifier.fit\u001b[0;34m(self, X, y, sample_weight, **kwargs)\u001b[0m\n\u001b[1;32m    293\u001b[0m \u001b[39mif\u001b[39;00m \u001b[39mlen\u001b[39m(y\u001b[39m.\u001b[39mshape) \u001b[39m!=\u001b[39m \u001b[39m2\u001b[39m:\n\u001b[1;32m    294\u001b[0m     y \u001b[39m=\u001b[39m to_categorical(y)\n\u001b[0;32m--> 295\u001b[0m \u001b[39mreturn\u001b[39;00m \u001b[39msuper\u001b[39;49m(KerasClassifier, \u001b[39mself\u001b[39;49m)\u001b[39m.\u001b[39;49mfit(X, y, \u001b[39m*\u001b[39;49m\u001b[39m*\u001b[39;49mkwargs)\n",
      "File \u001b[0;32m/opt/anaconda3/lib/python3.9/site-packages/skkeras/scikit_learn.py:175\u001b[0m, in \u001b[0;36mBaseWrapper.fit\u001b[0;34m(self, X, y, **kwargs)\u001b[0m\n\u001b[1;32m    169\u001b[0m     \u001b[39mself\u001b[39m\u001b[39m.\u001b[39mmodel_ \u001b[39m=\u001b[39m \u001b[39mself\u001b[39m\u001b[39m.\u001b[39mbuild_fn(\n\u001b[1;32m    170\u001b[0m         input_shape,\n\u001b[1;32m    171\u001b[0m         output_shape,\n\u001b[1;32m    172\u001b[0m         \u001b[39m*\u001b[39m\u001b[39m*\u001b[39m\u001b[39mself\u001b[39m\u001b[39m.\u001b[39mfilter_sk_params(\u001b[39mself\u001b[39m\u001b[39m.\u001b[39mbuild_fn\u001b[39m.\u001b[39m\u001b[39m__call__\u001b[39m)\n\u001b[1;32m    173\u001b[0m     )\n\u001b[1;32m    174\u001b[0m \u001b[39melse\u001b[39;00m:\n\u001b[0;32m--> 175\u001b[0m     \u001b[39mself\u001b[39m\u001b[39m.\u001b[39mmodel_ \u001b[39m=\u001b[39m \u001b[39mself\u001b[39;49m\u001b[39m.\u001b[39;49mbuild_fn(\n\u001b[1;32m    176\u001b[0m         input_shape, output_shape, \u001b[39m*\u001b[39;49m\u001b[39m*\u001b[39;49m\u001b[39mself\u001b[39;49m\u001b[39m.\u001b[39;49mfilter_sk_params(\u001b[39mself\u001b[39;49m\u001b[39m.\u001b[39;49mbuild_fn)\n\u001b[1;32m    177\u001b[0m     )\n\u001b[1;32m    178\u001b[0m fit_args \u001b[39m=\u001b[39m copy\u001b[39m.\u001b[39mdeepcopy(\u001b[39mself\u001b[39m\u001b[39m.\u001b[39mfilter_sk_params(Model\u001b[39m.\u001b[39mfit))\n\u001b[1;32m    179\u001b[0m fit_args\u001b[39m.\u001b[39mupdate(kwargs)\n",
      "\u001b[0;31mTypeError\u001b[0m: create_model() got multiple values for argument 'layer'"
     ]
    }
   ],
   "source": [
    "\n",
    "base_model = KerasClassifier(build_fn=create_model,  verbose=1)\n",
    "\n",
    "\n",
    "\n",
    "layers = [128]\n",
    "\n",
    "param_grid = dict(layer=np.array([128]))\n",
    "\n",
    "data_X = np.array(train_ds['np_normalize_img'].tolist())\n",
    "data_y = np.array(train_ds['class'].tolist())\n",
    "validate_X = np.array(validation_ds['np_normalize_img'].tolist())\n",
    "validate_y = np.array(validation_ds['class'].tolist())\n",
    "num_classes = 2\n",
    "\n",
    "\n",
    "# Perform grid search\n",
    "grid = GridSearchCV(estimator=base_model, param_grid=param_grid, scoring='accuracy',verbose=1)\n",
    "grid_results = grid.fit(data_X, data_y,validation_data=(validate_X, validate_y))\n",
    "print(\"Best: {0}, using {1}\".format(grid_results.best_score_, grid_results.best_params_))\n",
    "\n",
    "means = grid_results.cv_results_['mean_test_score']\n",
    "stds = grid_results.cv_results_['std_test_score']\n",
    "params = grid_results.cv_results_['params']\n",
    "for mean, stdev, param in zip(means, stds, params):\n",
    "    print('{0} ({1}) with: {2}'.format(mean, stdev, param))"
   ]
  },
  {
   "cell_type": "code",
   "execution_count": 64,
   "metadata": {},
   "outputs": [
    {
     "data": {
      "text/plain": [
       "<matplotlib.legend.Legend at 0x7ff32a9f7160>"
      ]
     },
     "execution_count": 64,
     "metadata": {},
     "output_type": "execute_result"
    },
    {
     "data": {
      "image/png": "[encoded data removed]",
      "text/plain": [
       "<Figure size 432x288 with 1 Axes>"
      ]
     },
     "metadata": {
      "needs_background": "light"
     },
     "output_type": "display_data"
    }
   ],
   "source": [
    "# Plot training & validation loss values\n",
    "plt.plot(history_normal.history['accuracy'], label='accuracy')\n",
    "plt.plot(history_normal.history['val_accuracy'], label = 'val_accuracy')\n",
    "plt.legend()"
   ]
  },
  {
   "cell_type": "code",
   "execution_count": 25,
   "metadata": {},
   "outputs": [
    {
     "name": "stdout",
     "output_type": "stream",
     "text": [
      "14/14 [==============================] - 0s 11ms/step - loss: 0.5540 - accuracy: 0.7934\n"
     ]
    },
    {
     "data": {
      "text/plain": [
       "[0.5540189146995544, 0.7934272289276123]"
      ]
     },
     "execution_count": 25,
     "metadata": {},
     "output_type": "execute_result"
    }
   ],
   "source": [
    "test_X = np.array(test_dataFrame['np_normalize_img'].tolist())\n",
    "test_y = np.array(test_dataFrame['class'].tolist())\n",
    "base_model.evaluate(test_X,test_y)"
   ]
  },
  {
   "cell_type": "markdown",
   "metadata": {},
   "source": [
    "For base model on validation data \n",
    "loss is 1.1 which neans  on average, the model's predictions are about 1.162 units away from the true values\n",
    "and accuracy is 0.80, 80.75% of the predictions made by the model during evaluation were correct.\n",
    "\n",
    "Goal is to reduce lass and increase accuracy\n"
   ]
  },
  {
   "cell_type": "code",
   "execution_count": 69,
   "metadata": {},
   "outputs": [],
   "source": [
    "from tensorflow.keras.regularizers import l2\n",
    "\n",
    "model_2 = models.Sequential([\n",
    "             layers.experimental.preprocessing.RandomFlip(\"horizontal\",input_shape=(48,48,1)),\n",
    "             layers.experimental.preprocessing.RandomContrast(0.2),\n",
    "             layers.experimental.preprocessing.RandomRotation(0.2),\n",
    "             layers.Conv2D(32,(3,3), padding='same', strides=(1, 1), kernel_regularizer=l2(0.001),input_shape=(48,48,1)),\n",
    "             layers.Dropout(0.2),\n",
    "             layers.MaxPooling2D((2,2)),\n",
    "             layers.Conv2D(64, (3,3), padding='same', strides=(1, 1), kernel_regularizer=l2(0.001),activation='relu'),\n",
    "             layers.Dropout(0.3),\n",
    "             layers.BatchNormalization(),\n",
    "             layers.MaxPooling2D((2,2)),\n",
    "             layers.Conv2D(128, (3,3), padding='same',strides=(1, 1), kernel_regularizer=l2(0.001), activation='relu'),\n",
    "             layers.MaxPooling2D((2,2)),\n",
    "             layers.Conv2D(512, (3,3), padding='same',strides=(1, 1), kernel_regularizer=l2(0.001), activation='relu'),\n",
    "             layers.Flatten(),\n",
    "             layers.Dense(128, activation='relu'),\n",
    "             layers.Dense(2, activation='softmax')\n",
    "])"
   ]
  },
  {
   "cell_type": "code",
   "execution_count": 70,
   "metadata": {},
   "outputs": [
    {
     "name": "stdout",
     "output_type": "stream",
     "text": [
      "Model: \"sequential_22\"\n",
      "_________________________________________________________________\n",
      " Layer (type)                Output Shape              Param #   \n",
      "=================================================================\n",
      " random_flip_16 (RandomFlip  (None, 48, 48, 1)         0         \n",
      " )                                                               \n",
      "                                                                 \n",
      " random_contrast_12 (Random  (None, 48, 48, 1)         0         \n",
      " Contrast)                                                       \n",
      "                                                                 \n",
      " random_rotation_17 (Random  (None, 48, 48, 1)         0         \n",
      " Rotation)                                                       \n",
      "                                                                 \n",
      " conv2d_63 (Conv2D)          (None, 48, 48, 32)        320       \n",
      "                                                                 \n",
      " dropout_4 (Dropout)         (None, 48, 48, 32)        0         \n",
      "                                                                 \n",
      " max_pooling2d_52 (MaxPooli  (None, 24, 24, 32)        0         \n",
      " ng2D)                                                           \n",
      "                                                                 \n",
      " conv2d_64 (Conv2D)          (None, 24, 24, 64)        18496     \n",
      "                                                                 \n",
      " dropout_5 (Dropout)         (None, 24, 24, 64)        0         \n",
      "                                                                 \n",
      " batch_normalization_24 (Ba  (None, 24, 24, 64)        256       \n",
      " tchNormalization)                                               \n",
      "                                                                 \n",
      " max_pooling2d_53 (MaxPooli  (None, 12, 12, 64)        0         \n",
      " ng2D)                                                           \n",
      "                                                                 \n",
      " conv2d_65 (Conv2D)          (None, 12, 12, 128)       73856     \n",
      "                                                                 \n",
      " max_pooling2d_54 (MaxPooli  (None, 6, 6, 128)         0         \n",
      " ng2D)                                                           \n",
      "                                                                 \n",
      " conv2d_66 (Conv2D)          (None, 6, 6, 512)         590336    \n",
      "                                                                 \n",
      " flatten_15 (Flatten)        (None, 18432)             0         \n",
      "                                                                 \n",
      " dense_38 (Dense)            (None, 128)               2359424   \n",
      "                                                                 \n",
      " dense_39 (Dense)            (None, 2)                 258       \n",
      "                                                                 \n",
      "=================================================================\n",
      "Total params: 3042946 (11.61 MB)\n",
      "Trainable params: 3042818 (11.61 MB)\n",
      "Non-trainable params: 128 (512.00 Byte)\n",
      "_________________________________________________________________\n"
     ]
    }
   ],
   "source": [
    "model_2.summary()"
   ]
  },
  {
   "cell_type": "code",
   "execution_count": 81,
   "metadata": {},
   "outputs": [
    {
     "name": "stdout",
     "output_type": "stream",
     "text": [
      "Epoch 1/50\n",
      "101/101 [==============================] - 20s 186ms/step - loss: 0.3685 - accuracy: 0.8719 - val_loss: 0.5498 - val_accuracy: 0.8050\n",
      "Epoch 2/50\n",
      "101/101 [==============================] - 19s 183ms/step - loss: 0.3519 - accuracy: 0.8757 - val_loss: 0.5282 - val_accuracy: 0.8124\n",
      "Epoch 3/50\n",
      "101/101 [==============================] - 19s 189ms/step - loss: 0.3607 - accuracy: 0.8766 - val_loss: 0.4809 - val_accuracy: 0.8472\n",
      "Epoch 4/50\n",
      "101/101 [==============================] - 19s 184ms/step - loss: 0.3596 - accuracy: 0.8732 - val_loss: 0.4564 - val_accuracy: 0.8410\n",
      "Epoch 5/50\n",
      "101/101 [==============================] - 20s 195ms/step - loss: 0.3511 - accuracy: 0.8747 - val_loss: 0.4124 - val_accuracy: 0.8547\n",
      "Epoch 6/50\n",
      "101/101 [==============================] - 18s 181ms/step - loss: 0.3735 - accuracy: 0.8694 - val_loss: 0.4368 - val_accuracy: 0.8509\n",
      "Epoch 7/50\n",
      "101/101 [==============================] - 18s 181ms/step - loss: 0.3722 - accuracy: 0.8704 - val_loss: 0.4474 - val_accuracy: 0.8460\n",
      "Epoch 8/50\n",
      "101/101 [==============================] - 18s 183ms/step - loss: 0.3520 - accuracy: 0.8800 - val_loss: 0.4254 - val_accuracy: 0.8522\n",
      "Epoch 9/50\n",
      "101/101 [==============================] - 19s 192ms/step - loss: 0.3485 - accuracy: 0.8766 - val_loss: 0.4748 - val_accuracy: 0.8298\n",
      "Epoch 10/50\n",
      "101/101 [==============================] - 19s 188ms/step - loss: 0.3697 - accuracy: 0.8679 - val_loss: 0.4097 - val_accuracy: 0.8596\n",
      "Epoch 11/50\n",
      "101/101 [==============================] - 19s 185ms/step - loss: 0.3431 - accuracy: 0.8844 - val_loss: 0.4327 - val_accuracy: 0.8385\n",
      "Epoch 12/50\n",
      "101/101 [==============================] - 18s 181ms/step - loss: 0.3321 - accuracy: 0.8878 - val_loss: 0.4341 - val_accuracy: 0.8634\n",
      "Epoch 13/50\n",
      "101/101 [==============================] - 18s 182ms/step - loss: 0.3437 - accuracy: 0.8869 - val_loss: 0.4178 - val_accuracy: 0.8609\n",
      "Epoch 14/50\n",
      "101/101 [==============================] - 18s 182ms/step - loss: 0.3457 - accuracy: 0.8865 - val_loss: 0.4274 - val_accuracy: 0.8497\n",
      "Epoch 15/50\n",
      "101/101 [==============================] - 19s 184ms/step - loss: 0.3383 - accuracy: 0.8915 - val_loss: 0.4679 - val_accuracy: 0.8248\n",
      "Epoch 16/50\n",
      "101/101 [==============================] - 21s 207ms/step - loss: 0.3479 - accuracy: 0.8900 - val_loss: 0.4397 - val_accuracy: 0.8422\n",
      "Epoch 17/50\n",
      "101/101 [==============================] - 19s 187ms/step - loss: 0.3456 - accuracy: 0.8778 - val_loss: 0.4678 - val_accuracy: 0.8385\n",
      "Epoch 18/50\n",
      "101/101 [==============================] - 19s 184ms/step - loss: 0.3389 - accuracy: 0.8859 - val_loss: 0.4211 - val_accuracy: 0.8559\n",
      "Epoch 19/50\n",
      "101/101 [==============================] - 18s 183ms/step - loss: 0.3438 - accuracy: 0.8884 - val_loss: 0.4972 - val_accuracy: 0.8323\n",
      "Epoch 20/50\n",
      "101/101 [==============================] - 19s 184ms/step - loss: 0.3434 - accuracy: 0.8847 - val_loss: 0.4272 - val_accuracy: 0.8584\n",
      "Epoch 21/50\n",
      "101/101 [==============================] - 19s 192ms/step - loss: 0.3405 - accuracy: 0.8847 - val_loss: 0.4484 - val_accuracy: 0.8373\n",
      "Epoch 22/50\n",
      "101/101 [==============================] - 21s 207ms/step - loss: 0.3394 - accuracy: 0.8924 - val_loss: 0.4682 - val_accuracy: 0.8286\n",
      "Epoch 23/50\n",
      "101/101 [==============================] - 19s 190ms/step - loss: 0.3492 - accuracy: 0.8834 - val_loss: 0.5022 - val_accuracy: 0.8248\n",
      "Epoch 24/50\n",
      "101/101 [==============================] - 19s 186ms/step - loss: 0.3438 - accuracy: 0.8872 - val_loss: 0.4885 - val_accuracy: 0.8224\n",
      "Epoch 25/50\n",
      "101/101 [==============================] - 19s 188ms/step - loss: 0.3278 - accuracy: 0.8977 - val_loss: 0.4731 - val_accuracy: 0.8435\n",
      "Epoch 26/50\n",
      "101/101 [==============================] - 19s 189ms/step - loss: 0.3296 - accuracy: 0.8887 - val_loss: 0.4671 - val_accuracy: 0.8422\n",
      "Epoch 27/50\n",
      "101/101 [==============================] - 19s 187ms/step - loss: 0.3297 - accuracy: 0.8940 - val_loss: 0.5151 - val_accuracy: 0.8335\n",
      "Epoch 28/50\n",
      "101/101 [==============================] - 19s 186ms/step - loss: 0.3367 - accuracy: 0.8875 - val_loss: 0.5181 - val_accuracy: 0.8224\n",
      "Epoch 29/50\n",
      "101/101 [==============================] - 19s 189ms/step - loss: 0.3435 - accuracy: 0.8862 - val_loss: 0.4887 - val_accuracy: 0.8422\n",
      "Epoch 30/50\n",
      "101/101 [==============================] - 19s 187ms/step - loss: 0.3341 - accuracy: 0.8984 - val_loss: 0.4900 - val_accuracy: 0.8323\n",
      "Epoch 31/50\n",
      "101/101 [==============================] - 19s 186ms/step - loss: 0.3293 - accuracy: 0.8872 - val_loss: 0.4835 - val_accuracy: 0.8248\n",
      "Epoch 32/50\n",
      "101/101 [==============================] - 19s 186ms/step - loss: 0.3254 - accuracy: 0.8943 - val_loss: 0.4608 - val_accuracy: 0.8447\n",
      "Epoch 33/50\n",
      "101/101 [==============================] - 19s 187ms/step - loss: 0.3296 - accuracy: 0.8934 - val_loss: 0.4514 - val_accuracy: 0.8534\n",
      "Epoch 34/50\n",
      "101/101 [==============================] - 19s 184ms/step - loss: 0.3293 - accuracy: 0.8940 - val_loss: 0.4042 - val_accuracy: 0.8708\n",
      "Epoch 35/50\n",
      "101/101 [==============================] - 19s 185ms/step - loss: 0.3354 - accuracy: 0.8968 - val_loss: 0.4057 - val_accuracy: 0.8534\n",
      "Epoch 36/50\n",
      "101/101 [==============================] - 19s 186ms/step - loss: 0.3176 - accuracy: 0.9049 - val_loss: 0.4563 - val_accuracy: 0.8547\n",
      "Epoch 37/50\n",
      "101/101 [==============================] - 19s 187ms/step - loss: 0.3296 - accuracy: 0.8915 - val_loss: 0.4806 - val_accuracy: 0.8286\n",
      "Epoch 38/50\n",
      "101/101 [==============================] - 19s 187ms/step - loss: 0.3279 - accuracy: 0.8956 - val_loss: 0.4277 - val_accuracy: 0.8547\n",
      "Epoch 39/50\n",
      "101/101 [==============================] - 19s 186ms/step - loss: 0.3143 - accuracy: 0.9021 - val_loss: 0.4156 - val_accuracy: 0.8658\n",
      "Epoch 40/50\n",
      "101/101 [==============================] - 19s 188ms/step - loss: 0.3323 - accuracy: 0.8841 - val_loss: 0.5270 - val_accuracy: 0.8099\n",
      "Epoch 41/50\n",
      "101/101 [==============================] - 19s 187ms/step - loss: 0.3328 - accuracy: 0.8962 - val_loss: 0.4642 - val_accuracy: 0.8497\n",
      "Epoch 42/50\n",
      "101/101 [==============================] - 19s 187ms/step - loss: 0.3416 - accuracy: 0.8872 - val_loss: 0.4292 - val_accuracy: 0.8621\n",
      "Epoch 43/50\n",
      "101/101 [==============================] - 19s 186ms/step - loss: 0.3112 - accuracy: 0.9027 - val_loss: 0.5374 - val_accuracy: 0.8385\n",
      "Epoch 44/50\n",
      "101/101 [==============================] - 19s 187ms/step - loss: 0.3186 - accuracy: 0.9030 - val_loss: 0.5001 - val_accuracy: 0.8323\n",
      "Epoch 45/50\n",
      "101/101 [==============================] - 19s 187ms/step - loss: 0.3183 - accuracy: 0.9024 - val_loss: 0.4654 - val_accuracy: 0.8435\n",
      "Epoch 46/50\n",
      "101/101 [==============================] - 19s 188ms/step - loss: 0.3129 - accuracy: 0.9005 - val_loss: 0.4755 - val_accuracy: 0.8410\n",
      "Epoch 47/50\n",
      "101/101 [==============================] - 19s 186ms/step - loss: 0.3298 - accuracy: 0.8984 - val_loss: 0.5322 - val_accuracy: 0.8273\n",
      "Epoch 48/50\n",
      "101/101 [==============================] - 19s 186ms/step - loss: 0.3315 - accuracy: 0.8956 - val_loss: 0.4756 - val_accuracy: 0.8460\n",
      "Epoch 49/50\n",
      "101/101 [==============================] - 19s 189ms/step - loss: 0.3242 - accuracy: 0.8949 - val_loss: 0.4561 - val_accuracy: 0.8422\n",
      "Epoch 50/50\n",
      "101/101 [==============================] - 19s 186ms/step - loss: 0.3099 - accuracy: 0.9015 - val_loss: 0.4692 - val_accuracy: 0.8534\n"
     ]
    }
   ],
   "source": [
    "from tensorflow.keras.callbacks import EarlyStopping\n",
    "\n",
    "early_stopping = EarlyStopping(monitor='val_loss', patience=6, restore_best_weights=True)\n",
    "model_2.compile(optimizer='adam',\n",
    "              loss=tf.keras.losses.SparseCategoricalCrossentropy(from_logits=True),\n",
    "              metrics=['accuracy'])\n",
    "\n",
    "# Training the model\n",
    "history_2 = model_2.fit(data_X, data_y,validation_data=(validate_X, validate_y),epochs=50)\n"
   ]
  },
  {
   "cell_type": "code",
   "execution_count": 85,
   "metadata": {},
   "outputs": [
    {
     "data": {
      "text/plain": [
       "<matplotlib.legend.Legend at 0x7ff30ce22310>"
      ]
     },
     "execution_count": 85,
     "metadata": {},
     "output_type": "execute_result"
    },
    {
     "data": {
      "image/png": "[encoded data removed]",
      "text/plain": [
       "<Figure size 432x288 with 1 Axes>"
      ]
     },
     "metadata": {
      "needs_background": "light"
     },
     "output_type": "display_data"
    }
   ],
   "source": [
    "# Plot training & validation loss values\n",
    "\n",
    "plt.plot(history_2.history[\"accuracy\"],'r',label=\"Training Accuracy\")\n",
    "plt.plot(history_2.history[\"val_accuracy\"],'b',label=\"Validation Accuracy\")\n",
    "plt.legend()"
   ]
  },
  {
   "cell_type": "code",
   "execution_count": 87,
   "metadata": {},
   "outputs": [
    {
     "name": "stdout",
     "output_type": "stream",
     "text": [
      "Epoch 1/30\n"
     ]
    },
    {
     "name": "stderr",
     "output_type": "stream",
     "text": [
      "/opt/anaconda3/lib/python3.9/site-packages/keras/src/backend.py:5727: UserWarning: \"`sparse_categorical_crossentropy` received `from_logits=True`, but the `output` argument was produced by a Softmax activation and thus does not represent logits. Was this intended?\n",
      "  output, from_logits = _get_logits(\n"
     ]
    },
    {
     "name": "stdout",
     "output_type": "stream",
     "text": [
      "51/51 [==============================] - 20s 353ms/step - loss: 0.7218 - accuracy: 0.6310 - val_loss: 0.6796 - val_accuracy: 0.5776\n",
      "Epoch 2/30\n",
      "51/51 [==============================] - 18s 345ms/step - loss: 0.5261 - accuracy: 0.7510 - val_loss: 0.6793 - val_accuracy: 0.5006\n",
      "Epoch 3/30\n",
      "51/51 [==============================] - 18s 344ms/step - loss: 0.4199 - accuracy: 0.8154 - val_loss: 0.6657 - val_accuracy: 0.5031\n",
      "Epoch 4/30\n",
      "51/51 [==============================] - 19s 364ms/step - loss: 0.3609 - accuracy: 0.8440 - val_loss: 0.6396 - val_accuracy: 0.5304\n",
      "Epoch 5/30\n",
      "51/51 [==============================] - 18s 346ms/step - loss: 0.3207 - accuracy: 0.8614 - val_loss: 0.5936 - val_accuracy: 0.6957\n",
      "Epoch 6/30\n",
      "51/51 [==============================] - 18s 348ms/step - loss: 0.2637 - accuracy: 0.8915 - val_loss: 1.0182 - val_accuracy: 0.5019\n",
      "Epoch 7/30\n",
      "51/51 [==============================] - 18s 352ms/step - loss: 0.2109 - accuracy: 0.9105 - val_loss: 1.0788 - val_accuracy: 0.5118\n",
      "Epoch 8/30\n",
      "51/51 [==============================] - 18s 346ms/step - loss: 0.1599 - accuracy: 0.9360 - val_loss: 0.6223 - val_accuracy: 0.6484\n",
      "Epoch 9/30\n",
      "51/51 [==============================] - 18s 344ms/step - loss: 0.1404 - accuracy: 0.9487 - val_loss: 0.6495 - val_accuracy: 0.6932\n",
      "Epoch 10/30\n",
      "51/51 [==============================] - 18s 344ms/step - loss: 0.1389 - accuracy: 0.9422 - val_loss: 0.4211 - val_accuracy: 0.8099\n",
      "Epoch 11/30\n",
      "51/51 [==============================] - 18s 345ms/step - loss: 0.0936 - accuracy: 0.9643 - val_loss: 0.4306 - val_accuracy: 0.8236\n",
      "Epoch 12/30\n",
      "51/51 [==============================] - 18s 358ms/step - loss: 0.0571 - accuracy: 0.9779 - val_loss: 0.5440 - val_accuracy: 0.8273\n",
      "Epoch 13/30\n",
      "51/51 [==============================] - 18s 348ms/step - loss: 0.0763 - accuracy: 0.9708 - val_loss: 0.6515 - val_accuracy: 0.8236\n",
      "Epoch 14/30\n",
      "51/51 [==============================] - 17s 341ms/step - loss: 0.0335 - accuracy: 0.9869 - val_loss: 0.6519 - val_accuracy: 0.8112\n",
      "Epoch 15/30\n",
      "51/51 [==============================] - 17s 326ms/step - loss: 0.0231 - accuracy: 0.9913 - val_loss: 0.6928 - val_accuracy: 0.8410\n",
      "Epoch 16/30\n",
      "51/51 [==============================] - 17s 340ms/step - loss: 0.0162 - accuracy: 0.9941 - val_loss: 0.6463 - val_accuracy: 0.8311\n"
     ]
    }
   ],
   "source": [
    "data_X = np.array(train_ds['np_normalize_img'].tolist())\n",
    "data_y = np.array(train_ds['class'].tolist())\n",
    "validate_X = np.array(validation_ds['np_normalize_img'].tolist())\n",
    "validate_y = np.array(validation_ds['class'].tolist())\n",
    "\n",
    "\n",
    "num_classes = 2\n",
    "\n",
    "model_3 = models.Sequential([\n",
    "             layers.Conv2D(32,(3,3), padding='same', activation='relu',input_shape=(48,48,1)),\n",
    "             layers.MaxPooling2D((2,2)),\n",
    "             layers.Conv2D(64, (3,3), padding='same', activation='relu'),\n",
    "             layers.BatchNormalization(),\n",
    "             layers.MaxPooling2D((2,2)),\n",
    "             layers.Conv2D(128, (3,3), padding='same', activation='relu'),\n",
    "             layers.MaxPooling2D((2,2)),\n",
    "             layers.Conv2D(512, (3,3), padding='same', activation='relu'),\n",
    "             layers.Flatten(),\n",
    "             layers.Dense(512, activation='relu'),\n",
    "             layers.BatchNormalization() ,           \n",
    "             layers.Dense(2, activation='softmax')\n",
    "])\n",
    "\n",
    "model_3.compile(optimizer='adam',\n",
    "              loss=tf.keras.losses.SparseCategoricalCrossentropy(from_logits=True),\n",
    "              metrics=['accuracy'])\n",
    "\n",
    "# Training the model\n",
    "history_3 = model_3.fit(\n",
    "                        data_X, data_y,\n",
    "                        validation_data=(validate_X, validate_y), \n",
    "                         epochs=30,\n",
    "                         batch_size=64,   \n",
    "                        callbacks=[early_stopping])\n"
   ]
  },
  {
   "cell_type": "code",
   "execution_count": 88,
   "metadata": {},
   "outputs": [
    {
     "data": {
      "text/plain": [
       "<matplotlib.legend.Legend at 0x7ff2feeafdc0>"
      ]
     },
     "execution_count": 88,
     "metadata": {},
     "output_type": "execute_result"
    },
    {
     "data": {
      "image/png": "[encoded data removed]",
      "text/plain": [
       "<Figure size 432x288 with 1 Axes>"
      ]
     },
     "metadata": {
      "needs_background": "light"
     },
     "output_type": "display_data"
    }
   ],
   "source": [
    "# Plot training & validation loss values\n",
    "plt.plot(history_3.history[\"accuracy\"],'r',label=\"Training Accuracy\")\n",
    "plt.plot(history_3.history[\"val_accuracy\"],'b',label=\"Validation Accuracy\")\n",
    "plt.legend()"
   ]
  },
  {
   "cell_type": "code",
   "execution_count": 90,
   "metadata": {},
   "outputs": [
    {
     "name": "stdout",
     "output_type": "stream",
     "text": [
      "Epoch 1/50\n"
     ]
    },
    {
     "name": "stderr",
     "output_type": "stream",
     "text": [
      "/opt/anaconda3/lib/python3.9/site-packages/keras/src/backend.py:5727: UserWarning: \"`sparse_categorical_crossentropy` received `from_logits=True`, but the `output` argument was produced by a Softmax activation and thus does not represent logits. Was this intended?\n",
      "  output, from_logits = _get_logits(\n"
     ]
    },
    {
     "name": "stdout",
     "output_type": "stream",
     "text": [
      "101/101 [==============================] - 19s 177ms/step - loss: 0.0559 - accuracy: 0.9801 - val_loss: 0.5674 - val_accuracy: 0.8410\n",
      "Epoch 2/50\n",
      "101/101 [==============================] - 18s 177ms/step - loss: 0.0539 - accuracy: 0.9810 - val_loss: 0.5704 - val_accuracy: 0.8385\n",
      "Epoch 3/50\n",
      "101/101 [==============================] - 18s 175ms/step - loss: 0.0564 - accuracy: 0.9795 - val_loss: 0.6097 - val_accuracy: 0.8261\n",
      "Epoch 4/50\n",
      "101/101 [==============================] - 18s 177ms/step - loss: 0.0458 - accuracy: 0.9826 - val_loss: 0.5920 - val_accuracy: 0.8410\n",
      "Epoch 5/50\n",
      "101/101 [==============================] - 18s 177ms/step - loss: 0.0429 - accuracy: 0.9851 - val_loss: 0.6057 - val_accuracy: 0.8323\n",
      "Epoch 6/50\n",
      "101/101 [==============================] - 18s 175ms/step - loss: 0.0306 - accuracy: 0.9904 - val_loss: 0.6719 - val_accuracy: 0.8149\n",
      "Epoch 7/50\n",
      "101/101 [==============================] - 18s 178ms/step - loss: 0.0340 - accuracy: 0.9866 - val_loss: 0.6340 - val_accuracy: 0.8323\n"
     ]
    }
   ],
   "source": [
    "model_3.compile(optimizer=tf.keras.optimizers.SGD(0.001),\n",
    "                loss=tf.keras.losses.SparseCategoricalCrossentropy(from_logits=True),\n",
    "                metrics = ['accuracy'])\n",
    "\n",
    "# Training the model\n",
    "history_4 = model_3.fit(\n",
    "                        data_X, data_y,\n",
    "                        validation_data=(validate_X, validate_y), \n",
    "                         epochs=50,\n",
    "                        callbacks=[early_stopping])                "
   ]
  },
  {
   "cell_type": "code",
   "execution_count": 92,
   "metadata": {},
   "outputs": [
    {
     "data": {
      "text/plain": [
       "<matplotlib.legend.Legend at 0x7ff2dd1926a0>"
      ]
     },
     "execution_count": 92,
     "metadata": {},
     "output_type": "execute_result"
    },
    {
     "data": {
      "image/png": "[encoded data removed]",
      "text/plain": [
       "<Figure size 432x288 with 1 Axes>"
      ]
     },
     "metadata": {
      "needs_background": "light"
     },
     "output_type": "display_data"
    }
   ],
   "source": [
    "# Plot training & validation loss values\n",
    "plt.plot(history_4.history[\"accuracy\"],'r',label=\"Training Accuracy\")\n",
    "plt.plot(history_4.history[\"val_accuracy\"],'b',label=\"Validation Accuracy\")\n",
    "plt.legend()"
   ]
  },
  {
   "cell_type": "code",
   "execution_count": 93,
   "metadata": {},
   "outputs": [
    {
     "name": "stdout",
     "output_type": "stream",
     "text": [
      "14/14 [==============================] - 1s 36ms/step - loss: 0.4925 - accuracy: 0.8333\n"
     ]
    },
    {
     "data": {
      "text/plain": [
       "[0.4925215542316437, 0.8333333134651184]"
      ]
     },
     "execution_count": 93,
     "metadata": {},
     "output_type": "execute_result"
    }
   ],
   "source": [
    "test_X = np.array(test_dataFrame['np_normalize_img'].tolist())\n",
    "test_y = np.array(test_dataFrame['class'].tolist())\n",
    "model_2.evaluate(test_X,test_y)"
   ]
  },
  {
   "cell_type": "markdown",
   "metadata": {},
   "source": [
    "For  model performance better than base mode with\n",
    "loss is 0.4 and accuracy is 82.86% of the predictions m"
   ]
  },
  {
   "cell_type": "code",
   "execution_count": 94,
   "metadata": {},
   "outputs": [],
   "source": [
    "def metrics_score(actual, predicted):\n",
    "    print(classification_report(actual, predicted))\n",
    "    cm = confusion_matrix(actual, predicted)\n",
    "    plt.figure(figsize=(8,5))\n",
    "    sns.heatmap(cm, annot=True,  fmt='.2f', xticklabels=['Happy', 'Not Happy'], yticklabels=['Happy', 'Not Happy'])\n",
    "    plt.ylabel('Actual')\n",
    "    plt.xlabel('Predicted')\n",
    "    plt.show()"
   ]
  },
  {
   "cell_type": "code",
   "execution_count": 95,
   "metadata": {},
   "outputs": [
    {
     "name": "stdout",
     "output_type": "stream",
     "text": [
      "26/26 [==============================] - 1s 36ms/step\n"
     ]
    }
   ],
   "source": [
    "train_prediction_X = model_2.predict(validate_X)\n",
    "train_predicted_labels = np.argmax(train_prediction_X, axis=1)"
   ]
  },
  {
   "cell_type": "code",
   "execution_count": 96,
   "metadata": {},
   "outputs": [
    {
     "name": "stdout",
     "output_type": "stream",
     "text": [
      "              precision    recall  f1-score   support\n",
      "\n",
      "           0       0.87      0.83      0.85       401\n",
      "           1       0.84      0.87      0.86       404\n",
      "\n",
      "    accuracy                           0.85       805\n",
      "   macro avg       0.85      0.85      0.85       805\n",
      "weighted avg       0.85      0.85      0.85       805\n",
      "\n"
     ]
    },
    {
     "data": {
      "image/png": "[encoded data removed]",
      "text/plain": [
       "<Figure size 576x360 with 2 Axes>"
      ]
     },
     "metadata": {
      "needs_background": "light"
     },
     "output_type": "display_data"
    }
   ],
   "source": [
    "metrics_score(validate_y, train_predicted_labels)"
   ]
  },
  {
   "cell_type": "code",
   "execution_count": 3,
   "metadata": {},
   "outputs": [
    {
     "name": "stdout",
     "output_type": "stream",
     "text": [
      "[NbConvertApp] Converting notebook milestone-part3-final.ipynb to html\n",
      "[NbConvertApp] WARNING | Alternative text is missing on 6 image(s).\n",
      "[NbConvertApp] Writing 488146 bytes to milestone-part3-final.html\n"
     ]
    }
   ],
   "source": [
    "!jupyter nbconvert --to html milestone-part3-final.ipynb"
   ]
  },
  {
   "cell_type": "code",
   "execution_count": null,
   "metadata": {},
   "outputs": [],
   "source": []
  }
 ],
 "metadata": {
  "kernelspec": {
   "display_name": "Python 3 (ipykernel)",
   "language": "python",
   "name": "python3"
  },
  "language_info": {
   "codemirror_mode": {
    "name": "ipython",
    "version": 3
   },
   "file_extension": ".py",
   "mimetype": "text/x-python",
   "name": "python",
   "nbconvert_exporter": "python",
   "pygments_lexer": "ipython3",
   "version": "3.9.18"
  },
  "vscode": {
   "interpreter": {
    "hash": "40d3a090f54c6569ab1632332b64b2c03c39dcf918b08424e98f38b5ae0af88f"
   }
  }
 },
 "nbformat": 4,
 "nbformat_minor": 2
}
